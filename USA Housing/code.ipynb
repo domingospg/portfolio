{
 "cells": [
  {
   "cell_type": "markdown",
   "metadata": {},
   "source": [
    "# USA Housing\n",
    "\n",
    "Vamos analisar o conjunto de dados USA Housing e tentar prever o valor das casas. Aqui vou focar apenas na construção do modelo com Random Forests, e não farei análises muito aprofundadas."
   ]
  },
  {
   "cell_type": "code",
   "execution_count": 98,
   "metadata": {},
   "outputs": [],
   "source": [
    "import pandas as pd\n",
    "import numpy as np\n",
    "import matplotlib.pyplot as plt\n",
    "import seaborn as sns\n",
    "%matplotlib inline\n",
    "\n",
    "from sklearn.model_selection import train_test_split\n",
    "from sklearn.ensemble import RandomForestRegressor\n",
    "import sklearn.metrics as metrics\n",
    "\n",
    "import warnings\n",
    "warnings.filterwarnings(\"ignore\")\n",
    "\n",
    "df = pd.read_csv('USA_Housing.csv') #Lendo os dados"
   ]
  },
  {
   "cell_type": "code",
   "execution_count": 3,
   "metadata": {},
   "outputs": [
    {
     "data": {
      "text/html": [
       "<div>\n",
       "<style scoped>\n",
       "    .dataframe tbody tr th:only-of-type {\n",
       "        vertical-align: middle;\n",
       "    }\n",
       "\n",
       "    .dataframe tbody tr th {\n",
       "        vertical-align: top;\n",
       "    }\n",
       "\n",
       "    .dataframe thead th {\n",
       "        text-align: right;\n",
       "    }\n",
       "</style>\n",
       "<table border=\"1\" class=\"dataframe\">\n",
       "  <thead>\n",
       "    <tr style=\"text-align: right;\">\n",
       "      <th></th>\n",
       "      <th>Avg. Area Income</th>\n",
       "      <th>Avg. Area House Age</th>\n",
       "      <th>Avg. Area Number of Rooms</th>\n",
       "      <th>Avg. Area Number of Bedrooms</th>\n",
       "      <th>Area Population</th>\n",
       "      <th>Price</th>\n",
       "      <th>Address</th>\n",
       "    </tr>\n",
       "  </thead>\n",
       "  <tbody>\n",
       "    <tr>\n",
       "      <th>0</th>\n",
       "      <td>79545.458574</td>\n",
       "      <td>5.682861</td>\n",
       "      <td>7.009188</td>\n",
       "      <td>4.09</td>\n",
       "      <td>23086.800503</td>\n",
       "      <td>1.059034e+06</td>\n",
       "      <td>208 Michael Ferry Apt. 674\\nLaurabury, NE 3701...</td>\n",
       "    </tr>\n",
       "    <tr>\n",
       "      <th>1</th>\n",
       "      <td>79248.642455</td>\n",
       "      <td>6.002900</td>\n",
       "      <td>6.730821</td>\n",
       "      <td>3.09</td>\n",
       "      <td>40173.072174</td>\n",
       "      <td>1.505891e+06</td>\n",
       "      <td>188 Johnson Views Suite 079\\nLake Kathleen, CA...</td>\n",
       "    </tr>\n",
       "    <tr>\n",
       "      <th>2</th>\n",
       "      <td>61287.067179</td>\n",
       "      <td>5.865890</td>\n",
       "      <td>8.512727</td>\n",
       "      <td>5.13</td>\n",
       "      <td>36882.159400</td>\n",
       "      <td>1.058988e+06</td>\n",
       "      <td>9127 Elizabeth Stravenue\\nDanieltown, WI 06482...</td>\n",
       "    </tr>\n",
       "    <tr>\n",
       "      <th>3</th>\n",
       "      <td>63345.240046</td>\n",
       "      <td>7.188236</td>\n",
       "      <td>5.586729</td>\n",
       "      <td>3.26</td>\n",
       "      <td>34310.242831</td>\n",
       "      <td>1.260617e+06</td>\n",
       "      <td>USS Barnett\\nFPO AP 44820</td>\n",
       "    </tr>\n",
       "    <tr>\n",
       "      <th>4</th>\n",
       "      <td>59982.197226</td>\n",
       "      <td>5.040555</td>\n",
       "      <td>7.839388</td>\n",
       "      <td>4.23</td>\n",
       "      <td>26354.109472</td>\n",
       "      <td>6.309435e+05</td>\n",
       "      <td>USNS Raymond\\nFPO AE 09386</td>\n",
       "    </tr>\n",
       "  </tbody>\n",
       "</table>\n",
       "</div>"
      ],
      "text/plain": [
       "   Avg. Area Income  Avg. Area House Age  Avg. Area Number of Rooms  \\\n",
       "0      79545.458574             5.682861                   7.009188   \n",
       "1      79248.642455             6.002900                   6.730821   \n",
       "2      61287.067179             5.865890                   8.512727   \n",
       "3      63345.240046             7.188236                   5.586729   \n",
       "4      59982.197226             5.040555                   7.839388   \n",
       "\n",
       "   Avg. Area Number of Bedrooms  Area Population         Price  \\\n",
       "0                          4.09     23086.800503  1.059034e+06   \n",
       "1                          3.09     40173.072174  1.505891e+06   \n",
       "2                          5.13     36882.159400  1.058988e+06   \n",
       "3                          3.26     34310.242831  1.260617e+06   \n",
       "4                          4.23     26354.109472  6.309435e+05   \n",
       "\n",
       "                                             Address  \n",
       "0  208 Michael Ferry Apt. 674\\nLaurabury, NE 3701...  \n",
       "1  188 Johnson Views Suite 079\\nLake Kathleen, CA...  \n",
       "2  9127 Elizabeth Stravenue\\nDanieltown, WI 06482...  \n",
       "3                          USS Barnett\\nFPO AP 44820  \n",
       "4                         USNS Raymond\\nFPO AE 09386  "
      ]
     },
     "execution_count": 3,
     "metadata": {},
     "output_type": "execute_result"
    }
   ],
   "source": [
    "df.head()"
   ]
  },
  {
   "cell_type": "markdown",
   "metadata": {},
   "source": [
    "Todas as colunas são numéricas, exceto a coluna 'Address'. Analisando os dados da coluna, podemos ver que todas contém a sigla Estado em que a casa se localiza, e por isso iremos tentar extrair essa variável.\n",
    "\n",
    "Em um primeiro momento, pode-se utilizar a estratégia de fazer um [str.split](https://pandas.pydata.org/docs/reference/api/pandas.Series.str.split.html) no char ',', mas isso não funcionará para todos os dados. Podemos ver, por exemplo, que as linhas 3 e 4 possuem a string 'FPO' antes da sigla do estado. Vamos então separar no espaço ' ' e pegar o segundo elemento da lista de trás pra frente, criando uma nova coluna chamada 'State', e depois excluir a coluna 'Address'."
   ]
  },
  {
   "cell_type": "code",
   "execution_count": 99,
   "metadata": {},
   "outputs": [
    {
     "data": {
      "text/plain": [
       "array(['NE', 'CA', 'WI', 'AP', 'AE', 'KS', 'CO', 'TN', 'AA', 'NM', 'PW',\n",
       "       'AR', 'HI', 'ME', 'IN', 'MI', 'DE', 'AZ', 'MA', 'MN', 'AL', 'NY',\n",
       "       'NV', 'VA', 'ID', 'OK', 'NH', 'MO', 'WV', 'WY', 'MH', 'UT', 'SD',\n",
       "       'CT', 'AK', 'WA', 'RI', 'NJ', 'KY', 'NC', 'IA', 'VT', 'FM', 'ND',\n",
       "       'LA', 'MP', 'OR', 'TX', 'DC', 'PR', 'MT', 'AS', 'OH', 'MS', 'IL',\n",
       "       'VI', 'GA', 'PA', 'MD', 'SC', 'GU', 'FL'], dtype=object)"
      ]
     },
     "execution_count": 99,
     "metadata": {},
     "output_type": "execute_result"
    }
   ],
   "source": [
    "df['State'] = df['Address'].apply(lambda X: X.split(' ')[-2])\n",
    "\n",
    "df.drop('Address', axis=1, inplace=True)\n",
    "\n",
    "df['State'].unique()"
   ]
  },
  {
   "cell_type": "markdown",
   "metadata": {},
   "source": [
    "Agora temos uma coluna com os nomes dos Estados."
   ]
  },
  {
   "cell_type": "code",
   "execution_count": 100,
   "metadata": {},
   "outputs": [],
   "source": [
    "X = df.drop('Price', axis=1)\n",
    "y = df[['Price']]"
   ]
  },
  {
   "cell_type": "code",
   "execution_count": 101,
   "metadata": {},
   "outputs": [],
   "source": [
    "X, X_test, y, y_test = train_test_split(X, y, test_size=0.3, random_state=101) #Separando 30% dos dados para o teste."
   ]
  },
  {
   "cell_type": "markdown",
   "metadata": {},
   "source": [
    "Depois de feito o split treino e teste, vamos aplicar as transformações nos dados. Precisamos converter a coluna 'State' para numérico."
   ]
  },
  {
   "cell_type": "code",
   "execution_count": 102,
   "metadata": {},
   "outputs": [],
   "source": [
    "from sklearn.preprocessing import LabelEncoder\n",
    "\n",
    "le = LabelEncoder()\n",
    "\n",
    "X['state_code'] = le.fit_transform(X['State'])\n",
    "X_test['state_code'] = le.fit_transform(X_test['State'])\n",
    "\n",
    "X.drop('State', axis=1, inplace=True)\n",
    "X_test.drop('State', axis=1, inplace=True)"
   ]
  },
  {
   "cell_type": "code",
   "execution_count": 113,
   "metadata": {},
   "outputs": [
    {
     "name": "stdout",
     "output_type": "stream",
     "text": [
      "313.3490204966272\n"
     ]
    }
   ],
   "source": [
    "reg = RandomForestRegressor()\n",
    "\n",
    "reg.fit(X, y)\n",
    "y_pred = reg.predict(X_test)\n",
    "\n",
    "print(np.sqrt(metrics.mean_absolute_error(y_pred, y_test)))"
   ]
  },
  {
   "cell_type": "code",
   "execution_count": 105,
   "metadata": {},
   "outputs": [
    {
     "name": "stdout",
     "output_type": "stream",
     "text": [
      "311.7348585488764\n"
     ]
    }
   ],
   "source": []
  },
  {
   "cell_type": "code",
   "execution_count": 108,
   "metadata": {},
   "outputs": [
    {
     "data": {
      "text/plain": [
       "array(['Avg. Area Income', 'Avg. Area House Age',\n",
       "       'Avg. Area Number of Rooms', 'Avg. Area Number of Bedrooms',\n",
       "       'Area Population', 'state_code'], dtype=object)"
      ]
     },
     "execution_count": 108,
     "metadata": {},
     "output_type": "execute_result"
    }
   ],
   "source": [
    "reg.feature_names_in_"
   ]
  },
  {
   "cell_type": "code",
   "execution_count": 107,
   "metadata": {},
   "outputs": [
    {
     "data": {
      "text/html": [
       "<div>\n",
       "<style scoped>\n",
       "    .dataframe tbody tr th:only-of-type {\n",
       "        vertical-align: middle;\n",
       "    }\n",
       "\n",
       "    .dataframe tbody tr th {\n",
       "        vertical-align: top;\n",
       "    }\n",
       "\n",
       "    .dataframe thead th {\n",
       "        text-align: right;\n",
       "    }\n",
       "</style>\n",
       "<table border=\"1\" class=\"dataframe\">\n",
       "  <thead>\n",
       "    <tr style=\"text-align: right;\">\n",
       "      <th></th>\n",
       "      <th>Avg. Area Income</th>\n",
       "      <th>Avg. Area House Age</th>\n",
       "      <th>Avg. Area Number of Rooms</th>\n",
       "      <th>Avg. Area Number of Bedrooms</th>\n",
       "      <th>Area Population</th>\n",
       "      <th>state_code</th>\n",
       "    </tr>\n",
       "  </thead>\n",
       "  <tbody>\n",
       "    <tr>\n",
       "      <th>2654</th>\n",
       "      <td>86690.873301</td>\n",
       "      <td>6.259901</td>\n",
       "      <td>6.676265</td>\n",
       "      <td>3.23</td>\n",
       "      <td>42589.624391</td>\n",
       "      <td>27</td>\n",
       "    </tr>\n",
       "    <tr>\n",
       "      <th>2468</th>\n",
       "      <td>59866.947700</td>\n",
       "      <td>5.870330</td>\n",
       "      <td>5.899076</td>\n",
       "      <td>4.16</td>\n",
       "      <td>32064.597156</td>\n",
       "      <td>11</td>\n",
       "    </tr>\n",
       "    <tr>\n",
       "      <th>290</th>\n",
       "      <td>74372.138452</td>\n",
       "      <td>6.562380</td>\n",
       "      <td>8.184511</td>\n",
       "      <td>6.35</td>\n",
       "      <td>34321.960155</td>\n",
       "      <td>56</td>\n",
       "    </tr>\n",
       "    <tr>\n",
       "      <th>1463</th>\n",
       "      <td>61370.323490</td>\n",
       "      <td>6.529605</td>\n",
       "      <td>6.606744</td>\n",
       "      <td>4.30</td>\n",
       "      <td>20600.511000</td>\n",
       "      <td>20</td>\n",
       "    </tr>\n",
       "    <tr>\n",
       "      <th>4508</th>\n",
       "      <td>52652.652336</td>\n",
       "      <td>5.688943</td>\n",
       "      <td>7.217268</td>\n",
       "      <td>4.06</td>\n",
       "      <td>34776.585907</td>\n",
       "      <td>33</td>\n",
       "    </tr>\n",
       "    <tr>\n",
       "      <th>...</th>\n",
       "      <td>...</td>\n",
       "      <td>...</td>\n",
       "      <td>...</td>\n",
       "      <td>...</td>\n",
       "      <td>...</td>\n",
       "      <td>...</td>\n",
       "    </tr>\n",
       "    <tr>\n",
       "      <th>4171</th>\n",
       "      <td>56610.642563</td>\n",
       "      <td>4.846832</td>\n",
       "      <td>7.558137</td>\n",
       "      <td>3.29</td>\n",
       "      <td>25494.740298</td>\n",
       "      <td>17</td>\n",
       "    </tr>\n",
       "    <tr>\n",
       "      <th>599</th>\n",
       "      <td>70596.850945</td>\n",
       "      <td>6.548274</td>\n",
       "      <td>6.539986</td>\n",
       "      <td>3.10</td>\n",
       "      <td>51614.830136</td>\n",
       "      <td>58</td>\n",
       "    </tr>\n",
       "    <tr>\n",
       "      <th>1361</th>\n",
       "      <td>55621.899104</td>\n",
       "      <td>3.735942</td>\n",
       "      <td>6.868291</td>\n",
       "      <td>2.30</td>\n",
       "      <td>63184.613147</td>\n",
       "      <td>12</td>\n",
       "    </tr>\n",
       "    <tr>\n",
       "      <th>1547</th>\n",
       "      <td>63044.460096</td>\n",
       "      <td>5.935261</td>\n",
       "      <td>5.913454</td>\n",
       "      <td>4.10</td>\n",
       "      <td>32725.279544</td>\n",
       "      <td>36</td>\n",
       "    </tr>\n",
       "    <tr>\n",
       "      <th>4959</th>\n",
       "      <td>75078.791516</td>\n",
       "      <td>7.644779</td>\n",
       "      <td>8.440726</td>\n",
       "      <td>4.33</td>\n",
       "      <td>56148.449322</td>\n",
       "      <td>6</td>\n",
       "    </tr>\n",
       "  </tbody>\n",
       "</table>\n",
       "<p>3500 rows × 6 columns</p>\n",
       "</div>"
      ],
      "text/plain": [
       "      Avg. Area Income  Avg. Area House Age  Avg. Area Number of Rooms  \\\n",
       "2654      86690.873301             6.259901                   6.676265   \n",
       "2468      59866.947700             5.870330                   5.899076   \n",
       "290       74372.138452             6.562380                   8.184511   \n",
       "1463      61370.323490             6.529605                   6.606744   \n",
       "4508      52652.652336             5.688943                   7.217268   \n",
       "...                ...                  ...                        ...   \n",
       "4171      56610.642563             4.846832                   7.558137   \n",
       "599       70596.850945             6.548274                   6.539986   \n",
       "1361      55621.899104             3.735942                   6.868291   \n",
       "1547      63044.460096             5.935261                   5.913454   \n",
       "4959      75078.791516             7.644779                   8.440726   \n",
       "\n",
       "      Avg. Area Number of Bedrooms  Area Population  state_code  \n",
       "2654                          3.23     42589.624391          27  \n",
       "2468                          4.16     32064.597156          11  \n",
       "290                           6.35     34321.960155          56  \n",
       "1463                          4.30     20600.511000          20  \n",
       "4508                          4.06     34776.585907          33  \n",
       "...                            ...              ...         ...  \n",
       "4171                          3.29     25494.740298          17  \n",
       "599                           3.10     51614.830136          58  \n",
       "1361                          2.30     63184.613147          12  \n",
       "1547                          4.10     32725.279544          36  \n",
       "4959                          4.33     56148.449322           6  \n",
       "\n",
       "[3500 rows x 6 columns]"
      ]
     },
     "execution_count": 107,
     "metadata": {},
     "output_type": "execute_result"
    }
   ],
   "source": []
  }
 ],
 "metadata": {
  "kernelspec": {
   "display_name": "Python 3 (ipykernel)",
   "language": "python",
   "name": "python3"
  },
  "language_info": {
   "codemirror_mode": {
    "name": "ipython",
    "version": 3
   },
   "file_extension": ".py",
   "mimetype": "text/x-python",
   "name": "python",
   "nbconvert_exporter": "python",
   "pygments_lexer": "ipython3",
   "version": "3.9.13"
  },
  "vscode": {
   "interpreter": {
    "hash": "b0d555105557f66a9a45792b632724fc3e2f2f64eea2ec00e88d317940673588"
   }
  }
 },
 "nbformat": 4,
 "nbformat_minor": 4
}
